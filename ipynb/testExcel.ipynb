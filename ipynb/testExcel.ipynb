{
 "cells": [
  {
   "cell_type": "markdown",
   "metadata": {},
   "source": [
    "# Excelファイル操作"
   ]
  },
  {
   "cell_type": "markdown",
   "metadata": {},
   "source": [
    "## Excelファイルの作成\n",
    "\n",
    "***"
   ]
  },
  {
   "cell_type": "code",
   "execution_count": 1,
   "metadata": {},
   "outputs": [],
   "source": [
    "import openpyxl\n",
    "\n",
    "bookName = 'test'\n",
    "book = openpyxl.Workbook()\n",
    "sheet = book.active\n",
    "sheet.title = 'test'\n",
    "book.save('xlsx\\{0}.xlsx'.format(bookName))"
   ]
  },
  {
   "cell_type": "markdown",
   "metadata": {},
   "source": [
    "## Excelファイルの編集\n",
    "\n",
    "***"
   ]
  },
  {
   "cell_type": "code",
   "execution_count": 3,
   "metadata": {},
   "outputs": [],
   "source": [
    "import openpyxl\n",
    "\n",
    "bookName = 'test'\n",
    "book = openpyxl.load_workbook('xlsx\\{0}.xlsx'.format(bookName))\n",
    "sheet = book['test']\n",
    "sheet.cell(row=2, column=2).value = 'これはpythonから入力しています。'\n",
    "\n",
    "book.save('xlsx\\{0}.xlsx'.format(bookName))"
   ]
  },
  {
   "cell_type": "markdown",
   "metadata": {},
   "source": [
    "## moduleから実行\n",
    "\n",
    "***"
   ]
  },
  {
   "cell_type": "code",
   "execution_count": 1,
   "metadata": {},
   "outputs": [],
   "source": [
    "from module.base.ExcelBase import ExcelBase\n",
    "\n",
    "book = ExcelBase()\n",
    "book.NewFile('test01')\n",
    "book = None"
   ]
  }
 ],
 "metadata": {
  "kernelspec": {
   "display_name": "Python 3",
   "language": "python",
   "name": "python3"
  },
  "language_info": {
   "codemirror_mode": {
    "name": "ipython",
    "version": 3
   },
   "file_extension": ".py",
   "mimetype": "text/x-python",
   "name": "python",
   "nbconvert_exporter": "python",
   "pygments_lexer": "ipython3",
   "version": "3.6.10"
  }
 },
 "nbformat": 4,
 "nbformat_minor": 4
}
