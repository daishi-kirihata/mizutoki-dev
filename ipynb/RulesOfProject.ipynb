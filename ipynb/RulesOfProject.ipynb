{
 "cells": [
  {
   "cell_type": "markdown",
   "metadata": {},
   "source": [
    "# プロジェクト構成"
   ]
  },
  {
   "cell_type": "markdown",
   "metadata": {},
   "source": [
    "## プロジェクト構成\n",
    "\n",
    "***"
   ]
  },
  {
   "cell_type": "markdown",
   "metadata": {},
   "source": [
    "### 構成図"
   ]
  },
  {
   "cell_type": "markdown",
   "metadata": {},
   "source": [
    "プロジェクトの構成は以下の通り\n",
    "\n",
    "* *.ipynb\n",
    "* module\n",
    " * interface\n",
    "   * *.py\n",
    " * base\n",
    "   * *.py\n",
    " * util\n",
    "   * *.py\n",
    " * *.py\n",
    " * (config.*)\n",
    "* csv\n",
    "* dic\n",
    "* docx\n",
    "* jpg\n",
    "* json\n",
    "* pptx\n",
    "* txt\n",
    "* xlsx\n"
   ]
  },
  {
   "cell_type": "markdown",
   "metadata": {},
   "source": [
    "### *.ipynb"
   ]
  },
  {
   "cell_type": "markdown",
   "metadata": {},
   "source": [
    "ipynbファイル。\n",
    "\n",
    "module内のpyファイルをインポートし、挙動を確認する。"
   ]
  },
  {
   "cell_type": "markdown",
   "metadata": {},
   "source": [
    "### module"
   ]
  },
  {
   "cell_type": "markdown",
   "metadata": {},
   "source": [
    "以下の4つを格納する。\n",
    "\n",
    "<dl>\n",
    "    <dt>interface</dt>\n",
    "    <dd>interfaceクラスを格納するフォルダ。</dd>\n",
    "    <dt>base</dt>\n",
    "    <dd>baseクラスを格納するフォルダ。</dd>\n",
    "    <dd>interfaceの実装を行う。</dd>\n",
    "    <dt>*.py</dt>\n",
    "    <dd>interfaceまたはbaseクラスを継承したmoduleファイル。</dd>\n",
    "    <dd>baseクラスを継承する場合、baseクラスで実装した処理とは別の実装を実現させる。</dd>\n",
    "    <dt>(config.*)</dt>\n",
    "    <dd>configファイル。</dd>\n",
    "</dl>"
   ]
  },
  {
   "cell_type": "markdown",
   "metadata": {},
   "source": [
    "### 出力フォルダ"
   ]
  },
  {
   "cell_type": "markdown",
   "metadata": {},
   "source": [
    "*.ipynbファイルを実行した際に作成されるファイルの格納先フォルダ群。\n",
    "\n",
    "拡張子別に作成している。"
   ]
  },
  {
   "cell_type": "markdown",
   "metadata": {},
   "source": [
    "## ファイル構成\n",
    "\n",
    "***"
   ]
  },
  {
   "cell_type": "markdown",
   "metadata": {},
   "source": [
    "### .ipynb"
   ]
  },
  {
   "cell_type": "markdown",
   "metadata": {},
   "source": [
    "```python\n",
    "from module.Sample import Sample\n",
    "\n",
    "sample = Sample()\n",
    "sample.DoSomethng()\n",
    "sample = None\n",
    "```\n",
    "\n",
    "内容の説明はmarkdown記法で記述する。"
   ]
  },
  {
   "cell_type": "markdown",
   "metadata": {},
   "source": [
    "### interface.py"
   ]
  },
  {
   "cell_type": "markdown",
   "metadata": {},
   "source": [
    "```python\n",
    "from abc import ABCMeta, abstractmethod\n",
    "from module.interface.IotherInterface import IotherInterface\n",
    "\n",
    "class ISample01(metaclass=ABCMeta):\n",
    "    @abstractmethod\n",
    "    def DoSomething(self):\n",
    "        '''\n",
    "        outline: \n",
    "        @param: \n",
    "        @type: \n",
    "        @rparam:\n",
    "        '''\n",
    "        pass\n",
    "\n",
    "class ISample02(IotherInterface, metaclass=ABCMeta):\n",
    "    @abstractmethod\n",
    "    def DoSomething(self):\n",
    "        '''\n",
    "        outline: \n",
    "        @param: \n",
    "        @type: \n",
    "        @rparam:\n",
    "        '''\n",
    "        pass\n",
    "```"
   ]
  },
  {
   "cell_type": "markdown",
   "metadata": {},
   "source": [
    "### base.py"
   ]
  },
  {
   "cell_type": "markdown",
   "metadata": {},
   "source": [
    "```python\n",
    "from module.interface.ISample import ISample01\n",
    "import Library\n",
    "\n",
    "class SampleBase(ISample01):\n",
    "    def __init__(self):\n",
    "        '''\n",
    "        outline: \n",
    "        @param\n",
    "        @type\n",
    "        @rparam\n",
    "        '''\n",
    "        pass\n",
    "    \n",
    "    def __del__(self):\n",
    "        '''\n",
    "        outline: \n",
    "        @param\n",
    "        @type\n",
    "        @rparam\n",
    "        '''\n",
    "        pass\n",
    "    \n",
    "    def DoSomething(self):\n",
    "        '''\n",
    "        outline: \n",
    "        @param\n",
    "        @type\n",
    "        @rparam\n",
    "        '''\n",
    "        pass\n",
    "```"
   ]
  },
  {
   "cell_type": "markdown",
   "metadata": {},
   "source": [
    "### module.py"
   ]
  },
  {
   "cell_type": "markdown",
   "metadata": {},
   "source": [
    "```python\n",
    "from module.base.SampleBase import SampleBase\n",
    "from module.interface.ISample import ISample02\n",
    "import Library\n",
    "\n",
    "class Sample01(SampleBase):\n",
    "    def DoSomething(self):\n",
    "        '''\n",
    "        outline: \n",
    "        @param: \n",
    "        @type: \n",
    "        @rparam: \n",
    "        '''\n",
    "        pass\n",
    "    \n",
    "class Sample02(ISample02):\n",
    "    def __init__(self):\n",
    "        '''\n",
    "        outline: \n",
    "        '''\n",
    "        pass\n",
    "```"
   ]
  },
  {
   "cell_type": "markdown",
   "metadata": {},
   "source": [
    "## module.pyの利用\n",
    "\n",
    "***"
   ]
  },
  {
   "cell_type": "code",
   "execution_count": 1,
   "metadata": {},
   "outputs": [
    {
     "name": "stdout",
     "output_type": "stream",
     "text": [
      "インスタンスの作成\n",
      "CrawlerBase : init 呼び出し\n",
      "ScraperBase : init 呼び出し\n",
      "メソッドの実行\n",
      "CrawlerBase : GetHTML 呼び出し\n",
      "ScraperBase : SaveWebText 呼び出し\n",
      "Help on method SaveWebText in module module.Scraper:\n",
      "\n",
      "SaveWebText(html) method of module.Scraper.Scraper instance\n",
      "    outline:\n",
      "\n",
      "インスタンスの開放\n",
      "CrawlerBase : del 呼び出し\n",
      "ScraperBase : del 呼び出し\n",
      "プログラムの修了\n"
     ]
    }
   ],
   "source": [
    "from module.Crawler import Crawler\n",
    "from module.Scraper import Scraper\n",
    "\n",
    "print('インスタンスの作成')\n",
    "crawler = Crawler()\n",
    "scraper = Scraper()\n",
    "\n",
    "print('メソッドの実行')\n",
    "crawler.GetHTML()\n",
    "scraper.SaveWebText('arguments')\n",
    "help(scraper.SaveWebText)\n",
    "\n",
    "print('インスタンスの開放')\n",
    "crawler = None\n",
    "scraper = None\n",
    "\n",
    "print('プログラムの修了')"
   ]
  }
 ],
 "metadata": {
  "kernelspec": {
   "display_name": "Python 3",
   "language": "python",
   "name": "python3"
  },
  "language_info": {
   "codemirror_mode": {
    "name": "ipython",
    "version": 3
   },
   "file_extension": ".py",
   "mimetype": "text/x-python",
   "name": "python",
   "nbconvert_exporter": "python",
   "pygments_lexer": "ipython3",
   "version": "3.6.10"
  }
 },
 "nbformat": 4,
 "nbformat_minor": 4
}
