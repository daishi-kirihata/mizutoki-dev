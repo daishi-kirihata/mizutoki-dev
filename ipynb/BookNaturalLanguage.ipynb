{
 "cells": [
  {
   "cell_type": "code",
   "execution_count": 8,
   "metadata": {},
   "outputs": [
    {
     "name": "stdout",
     "output_type": "stream",
     "text": [
      "<http.client.HTTPResponse object at 0x00000194748385C0>\n"
     ]
    }
   ],
   "source": [
    "import json\n",
    "from urllib.request import urlopen\n",
    "\n",
    "class corpusMaker():\n",
    "    def __init__(self, url):\n",
    "        self.url = url\n",
    "        \n",
    "    def fetchData(self, **params):\n",
    "        response = urlopen(self.url)\n",
    "        return response\n",
    "    \n",
    "    def extractData(self, response):\n",
    "        for key in response['response'].keys():\n",
    "            if not key.isdigit():\n",
    "                continue\n",
    "            d = response['response'][key]['photo']\n",
    "            if d.get('comment') and d.get('total_score'):\n",
    "                comment = d['comment']\n",
    "                score = d['total_score']\n",
    "                data = {\n",
    "                    'comment' : comment,\n",
    "                    'score' : score\n",
    "                }\n",
    "                yield data\n",
    "    \n",
    "    def saveAsJson(self, saveFileName, record):\n",
    "        file = open('json\\{0}.json'.format(saveFileName), mode='a')\n",
    "        f.write('\\n'.format(json.dumps(record)))\n",
    "        file.close()\n",
    "\n",
    "fileName = 'test'\n",
    "crawler = corpusMaker('https://ja.wikipedia.org/wiki/%E3%83%A1%E3%82%A4%E3%83%B3%E3%83%9A%E3%83%BC%E3%82%B8')\n",
    "html = crawler.fetchData()\n",
    "print(html)"
   ]
  },
  {
   "cell_type": "code",
   "execution_count": 1,
   "metadata": {},
   "outputs": [
    {
     "data": {
      "text/plain": [
       "(array(['勝気な女性の、しかし、勝気な我侭な・・・じゃなくて、必死になれる献身さが反面にある。ほんとに、人間らしい女性のサクセスストーリーなんだけど、利他的な努力のできる素敵な人格の物語・・・と言うより、実話だそうです。実際、ジュリア・ロバーツだからできた映画かもしれません。',\n",
       "        '裏切られました！ビデオ撮影ができなくなりアプリ停止<br />笑えてくる位ゴミ',\n",
       "        '１９８７年リリースの新生ピンクフロイドの第１作・・・デイヴギルモアズピンクフロイドという形容がピッタリのアルバムで、内容は素晴らしく個人的には大好きです。基本的にはデイヴとプロデューサー・ボブエズリンが仕上げたものと言えます・・・ニックメイソンも完全に復帰しておらず（ドラムが叩けない・・・笑）、リチャードライトもサポート程度の扱いになっています。豪華ミュージシャンが参加しており、トニーレビン（Ｂ・Ｓｔｉｃｋ）・ジムケルトナー（Ｄｒ）・カーマインアピス（Ｄｒ）・マイケルランドゥ（Ｇ）・トムスコット（Ｓａｘ）等と錚々たる面子です・・・金かかってます（笑）！！ジャケットも合成ではなく実際ベッドを並べたとか・・・ストームソーガソンの仕事は本当スケールがでかい。４曲目「ＯＮＥＳＬＩＰ」はデイヴとフィルマンザネラとの共作で最高にかっこいい・・・トニーレビンが大活躍の曲！！５曲目「オンザターニングザウェイ」はデイヴの泣きのギターが炸裂する曲で名演です！！この時期の来日公演を体験しましたが、本当凄いバンドでした・・・とてつもないエネルギーを誇るロックバンド！！必聴！！！！！',\n",
       "        ...,\n",
       "        '劇団四季のミュージカルで今やっているけど、観に行く暇が無くて、予習のつもりで買いました。<br />でも、ストーリーが薄めというか、歌と踊り、演出は素晴らしいものなんでしょうけど、結局は路地裏の猫それぞれの紹介で終わるような印象で、申し訳ないけど飽きてしまい、何度も途中で止めそうになりました。<br />結局、もしかすると今はつまらないけどこの先に面白い展開があるかも、と思い、我慢しながら最後まで見ましたが、多分もう観ないし、劇団四季もこの作品は行くのを止めようと思いました。',\n",
       "        '前作が面白かったので期待したのだが、<br />この作品は正直、スパイの恋愛映画。<br />ほんとがっかりです。<br />カーチェイスなども見ものだし、アクションはいいんだけど<br />肝心のストーリーがただの恋愛ものじゃなぁという印象。<br />サブストーリー的に恋愛要素があるのなら気にならないのだが、<br />この作品はメインにラブストーリーがある。<br />逆に言えば、スパイの恋愛模様を描いたのだとも言えるけれど、<br />前作のようなものを求めている人にはお勧めできない。',\n",
       "        '3Dだからと言って、ごまかされては、いけません。<br /><br />所詮、アメリカ作品、トドの詰まりは侵略と差別のオンパレードです。<br /><br />ここには、赦しや和解等、何一つ描かれてません。<br /><br />即ち、目には目を歯には歯が、アメリカ定番化映画でございます。<br /><br />特に、インディアンのキャラ設定に、見ていて吐き気がするほど、ゲスな発想です。<br /><br />世界のリーダーなんて聞いて呆れます。'],\n",
       "       dtype=object),\n",
       " array([5, 1, 5, ..., 2, 2, 2], dtype=int64))"
      ]
     },
     "execution_count": 1,
     "metadata": {},
     "output_type": "execute_result"
    }
   ],
   "source": [
    "from module.util.util import loadDataset\n",
    "\n",
    "loadDataset(r'tsv\\amazon_reviews_multilingual_JP_v1_00.tsv')"
   ]
  }
 ],
 "metadata": {
  "kernelspec": {
   "display_name": "Python 3",
   "language": "python",
   "name": "python3"
  },
  "language_info": {
   "codemirror_mode": {
    "name": "ipython",
    "version": 3
   },
   "file_extension": ".py",
   "mimetype": "text/x-python",
   "name": "python",
   "nbconvert_exporter": "python",
   "pygments_lexer": "ipython3",
   "version": "3.6.10"
  }
 },
 "nbformat": 4,
 "nbformat_minor": 4
}
