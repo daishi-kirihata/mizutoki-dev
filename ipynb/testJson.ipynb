{
 "cells": [
  {
   "cell_type": "markdown",
   "metadata": {},
   "source": [
    "# jsonファイル操作"
   ]
  },
  {
   "cell_type": "markdown",
   "metadata": {},
   "source": [
    "## jsonファイルの書き込み\n",
    "\n",
    "***"
   ]
  },
  {
   "cell_type": "code",
   "execution_count": 2,
   "metadata": {},
   "outputs": [],
   "source": [
    "import json\n",
    "\n",
    "dic = dict()\n",
    "dic['profile01'] = {'first':'Tarou', 'last':'Tanaka'}\n",
    "dic['profile02'] = {'first':'Hanako', 'last':'Yamada'}\n",
    "\n",
    "jsonFile = open('json\\{0}.json'.format('test'), mode='w')\n",
    "json.dump(dic, jsonFile)\n",
    "jsonFile.close()"
   ]
  },
  {
   "cell_type": "markdown",
   "metadata": {},
   "source": [
    "## jsonファイルの読み込み\n",
    "\n",
    "***"
   ]
  },
  {
   "cell_type": "code",
   "execution_count": 5,
   "metadata": {},
   "outputs": [
    {
     "name": "stdout",
     "output_type": "stream",
     "text": [
      "Tarou\n"
     ]
    }
   ],
   "source": [
    "import json\n",
    "\n",
    "jsonFile = open('json\\{0}.json'.format('test'), mode='r')\n",
    "jsonData = json.load(jsonFile)\n",
    "jsonFile.close()\n",
    "\n",
    "print(jsonData['profile01']['first'])"
   ]
  }
 ],
 "metadata": {
  "kernelspec": {
   "display_name": "Python 3",
   "language": "python",
   "name": "python3"
  },
  "language_info": {
   "codemirror_mode": {
    "name": "ipython",
    "version": 3
   },
   "file_extension": ".py",
   "mimetype": "text/x-python",
   "name": "python",
   "nbconvert_exporter": "python",
   "pygments_lexer": "ipython3",
   "version": "3.6.10"
  }
 },
 "nbformat": 4,
 "nbformat_minor": 4
}
