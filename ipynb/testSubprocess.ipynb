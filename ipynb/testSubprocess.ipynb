{
 "cells": [
  {
   "cell_type": "markdown",
   "metadata": {},
   "source": [
    "# コマンド操作"
   ]
  },
  {
   "cell_type": "markdown",
   "metadata": {},
   "source": [
    "## 標準コマンド実行\n",
    "\n",
    "***"
   ]
  },
  {
   "cell_type": "code",
   "execution_count": 10,
   "metadata": {},
   "outputs": [
    {
     "name": "stdout",
     "output_type": "stream",
     "text": [
      "c:\\Users\n",
      "\n"
     ]
    }
   ],
   "source": [
    "import subprocess\n",
    "\n",
    "commandText = 'cd'\n",
    "proc = subprocess.run(commandText, cwd=r'c:\\Users', shell=True, stdout=subprocess.PIPE, stderr=subprocess.PIPE, timeout=3)\n",
    "print(proc.stdout.decode('cp932'))"
   ]
  },
  {
   "cell_type": "markdown",
   "metadata": {},
   "source": [
    "## MeCabユーザ辞書のコンパイル\n",
    "\n",
    "***"
   ]
  },
  {
   "cell_type": "code",
   "execution_count": 1,
   "metadata": {},
   "outputs": [
    {
     "name": "stdout",
     "output_type": "stream",
     "text": [
      "reading user_mecab.csv ... 2\n",
      "emitting double-array: 100% |###########################################| \n",
      "\n",
      "done!\n",
      "\n",
      "        1 個のファイルを移動しました。\n",
      "\n",
      "ユーザ辞書を作成しました。\n"
     ]
    }
   ],
   "source": [
    "import subprocess\n",
    "\n",
    "mecabPath = r'c:\\Program Files\\MeCab'\n",
    "currentPath = r'c:\\Users\\hajime\\ipynb'\n",
    "fileName = 'user_mecab'\n",
    "commands = list()\n",
    "commands.append(r'\"{0}\\bin\\mecab-dict-index.exe\" -d \"{0}\\dic\\ipadic\" -u {1}.dic -f utf-8 -t utf-8 {1}.csv'.format(mecabPath, fileName))\n",
    "commands.append(r'move {1}.dic {0}\\dic'.format(currentPath, fileName))\n",
    "for command in commands:\n",
    "    proc = subprocess.run(command, cwd=r'{0}\\csv'.format(currentPath), shell=True, stdout=subprocess.PIPE, stderr=subprocess.PIPE, timeout=3)\n",
    "    print(proc.stdout.decode('cp932'))\n",
    "    \n",
    "print('ユーザ辞書を作成しました。')"
   ]
  }
 ],
 "metadata": {
  "kernelspec": {
   "display_name": "Python 3",
   "language": "python",
   "name": "python3"
  },
  "language_info": {
   "codemirror_mode": {
    "name": "ipython",
    "version": 3
   },
   "file_extension": ".py",
   "mimetype": "text/x-python",
   "name": "python",
   "nbconvert_exporter": "python",
   "pygments_lexer": "ipython3",
   "version": "3.6.10"
  }
 },
 "nbformat": 4,
 "nbformat_minor": 4
}
