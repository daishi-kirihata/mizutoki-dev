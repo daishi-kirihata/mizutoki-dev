{
 "cells": [
  {
   "cell_type": "markdown",
   "metadata": {},
   "source": [
    "# MySQL操作"
   ]
  },
  {
   "cell_type": "markdown",
   "metadata": {},
   "source": [
    "## データベース接続\n",
    "\n",
    "***"
   ]
  },
  {
   "cell_type": "code",
   "execution_count": 4,
   "metadata": {},
   "outputs": [
    {
     "name": "stdout",
     "output_type": "stream",
     "text": [
      "({'id': 1, 'name': 'reimu'}, {'id': 2, 'name': 'marisa'}, {'id': 3, 'name': 'youmu'})\n"
     ]
    }
   ],
   "source": [
    "from module.base.DbAdapterBase import DbAdapterBase\n",
    "\n",
    "db = DbAdapterBase('TEST')\n",
    "db.Connect()\n",
    "sql = '''\n",
    "SELECT \n",
    "    id, name \n",
    "FROM\n",
    "    TEST\n",
    "'''.strip()\n",
    "cur =db.ExecuteDataSet(sql)\n",
    "result = cur.fetchall()\n",
    "print(result)\n",
    "db.Dispose()"
   ]
  },
  {
   "cell_type": "markdown",
   "metadata": {},
   "source": [
    "## データ取得するクラスの作成\n",
    "\n",
    "***"
   ]
  },
  {
   "cell_type": "code",
   "execution_count": 10,
   "metadata": {},
   "outputs": [],
   "source": [
    "from module.base.DbAdapterBase import DbAdapterBase\n",
    "\n",
    "class Test():\n",
    "    def __init__(self):\n",
    "        self.__db = DbAdapterBase('TEST')\n",
    "        self.__cur = None\n",
    "    \n",
    "    def __del__(self):\n",
    "        self.Dispose()\n",
    "        \n",
    "    def Dispose(self):\n",
    "        if self.__cur is not None:\n",
    "            self.__cur.close()\n",
    "            self.__cur = None\n",
    "        self.__db.Dispose()\n",
    "    \n",
    "    def Connect(self):\n",
    "        self.__db.Connect()\n",
    "    \n",
    "    def GetTest(self, key):\n",
    "        sql = '''\n",
    "SELECT \n",
    "    id, name\n",
    "FROM \n",
    "    TEST\n",
    "WHERE\n",
    "    id = '{0}'\n",
    "'''.strip().format(key)\n",
    "        self.__cur = self.__db.ExecuteDataSet(sql)\n",
    "        results = list()\n",
    "        row = self.__cur.fetchone()\n",
    "        while row is not None:\n",
    "            results.append(row)\n",
    "            row = self.__cur.fetchone()\n",
    "        return results"
   ]
  },
  {
   "cell_type": "code",
   "execution_count": null,
   "metadata": {},
   "outputs": [],
   "source": [
    "from module.base.DbAdapterBase import DbAdapterBase\n",
    "\n",
    "class Station():\n",
    "    def __init__(self):\n",
    "        self.__db = DbAdapterBase('master')\n",
    "        self.__cur = None\n",
    "        \n",
    "    def __del__(self):\n",
    "        self.Dispose()\n",
    "        \n",
    "    def Dispose(self):\n",
    "        if self.__cur is not None:\n",
    "            self.__cur.close()\n",
    "            self.__cur = None\n",
    "        self.__db.Dispose()\n",
    "        \n",
    "    def Connect(self):\n",
    "        self.__db.Connect()\n",
    "        \n",
    "    def StoreStation(self)"
   ]
  },
  {
   "cell_type": "code",
   "execution_count": 11,
   "metadata": {},
   "outputs": [
    {
     "name": "stdout",
     "output_type": "stream",
     "text": [
      "{'id': 1, 'name': 'reimu'}\n",
      "{'id': 2, 'name': 'marisa'}\n",
      "{'id': 3, 'name': 'youmu'}\n"
     ]
    }
   ],
   "source": [
    "import json\n",
    "\n",
    "test = Test()\n",
    "test.Connect()\n",
    "\n",
    "rows = test.GetTest('1')\n",
    "for row in rows:\n",
    "    print(row)\n",
    "\n",
    "rows = test.GetTest('2')\n",
    "for row in rows:\n",
    "    print(row)\n",
    "\n",
    "test.Dispose\n",
    "rows = test.GetTest('3')\n",
    "for row in rows:\n",
    "    print(row)\n",
    "#jsonFile = open('json\\{0}.json'.format('fromDb'), mode='w')\n",
    "#json.dump(test.GetTest('1'), jsonFile)\n",
    "#jsonFile.close()\n",
    "test = None"
   ]
  },
  {
   "cell_type": "markdown",
   "metadata": {},
   "source": [
    "## データの取得\n",
    "\n",
    "***"
   ]
  }
 ],
 "metadata": {
  "kernelspec": {
   "display_name": "Python 3",
   "language": "python",
   "name": "python3"
  },
  "language_info": {
   "codemirror_mode": {
    "name": "ipython",
    "version": 3
   },
   "file_extension": ".py",
   "mimetype": "text/x-python",
   "name": "python",
   "nbconvert_exporter": "python",
   "pygments_lexer": "ipython3",
   "version": "3.6.10"
  }
 },
 "nbformat": 4,
 "nbformat_minor": 4
}
