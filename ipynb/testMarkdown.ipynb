{
 "cells": [
  {
   "cell_type": "markdown",
   "metadata": {},
   "source": [
    "# Markdown"
   ]
  },
  {
   "cell_type": "markdown",
   "metadata": {},
   "source": [
    "## ドキュメント"
   ]
  },
  {
   "cell_type": "markdown",
   "metadata": {},
   "source": [
    "### スタイル\n",
    "\n",
    "***\n",
    "\n",
    "*Italic*の表示\n",
    "\n",
    "**Bold**の表示\n",
    "\n",
    "***Italic & Bold***の表示\n",
    "\n",
    "~~取り消し線~~の表示"
   ]
  },
  {
   "cell_type": "markdown",
   "metadata": {},
   "source": [
    "### 引用\n",
    "\n",
    "***\n",
    "\n",
    "以下引用テキスト\n",
    "> 引用されたテキスト"
   ]
  },
  {
   "cell_type": "markdown",
   "metadata": {},
   "source": [
    "### ソースコード\n",
    "\n",
    "***"
   ]
  },
  {
   "cell_type": "markdown",
   "metadata": {},
   "source": [
    "```python\n",
    "for i in range(10):\n",
    "    print('Hello!')\n",
    "\n",
    "```"
   ]
  },
  {
   "cell_type": "markdown",
   "metadata": {},
   "source": [
    "### リンク\n",
    "\n",
    "***\n",
    "\n",
    "[https://www.google.com](https://www.google.com/) へアクセス"
   ]
  },
  {
   "cell_type": "markdown",
   "metadata": {},
   "source": [
    "### 引用タイプリンク\n",
    "\n",
    "***\n",
    "\n",
    "[Google][1] や[Yahoo!][2] へのアクセス\n",
    "\n",
    "[1]: https://www.google.com \"Google\"\n",
    "[2]: https://yahoo.co.jp \"Yahoo!\""
   ]
  },
  {
   "cell_type": "markdown",
   "metadata": {},
   "source": [
    "### 箇条書き\n",
    "\n",
    "***"
   ]
  },
  {
   "cell_type": "markdown",
   "metadata": {},
   "source": [
    "箇条書き\n",
    "\n",
    "* 最初の項目\n",
    "* 次の項目\n",
    " * 下階層の項目1\n",
    " * 下階層の項目2\n",
    "* 最後の項目"
   ]
  },
  {
   "cell_type": "markdown",
   "metadata": {},
   "source": [
    "### ナンバリングリスト\n",
    "\n",
    "***\n",
    "\n",
    "ナンバリングリスト\n",
    "\n",
    "1. 最初の項目\n",
    "1. 次の項目\n",
    " 1. 下階層の項目1\n",
    " 1. 下階層の項目2\n",
    "1. 最後の項目"
   ]
  },
  {
   "cell_type": "markdown",
   "metadata": {},
   "source": [
    "### 定義リスト\n",
    "\n",
    "***\n",
    "\n",
    "定義リスト\n",
    "\n",
    "<dl>\n",
    "    <dt>項目その1</dt>\n",
    "    <dd>項目その1の説明テキスト。</dd>\n",
    "    <dt>項目その2</dt>\n",
    "    <dd>項目その2の説明テキスト。</dd>\n",
    "</dl>"
   ]
  },
  {
   "cell_type": "markdown",
   "metadata": {},
   "source": [
    "### テーブル\n",
    "\n",
    "***\n",
    "\n",
    "テーブル\n",
    "\n",
    "|Id|NameLeft|NameCenter|NameRight|\n",
    "|-|:-|:-:|-:|\n",
    "|1|one|one|one|\n",
    "|2|two|two|two|\n",
    "|3|three|three|three|"
   ]
  },
  {
   "cell_type": "markdown",
   "metadata": {},
   "source": [
    "## 数式"
   ]
  },
  {
   "cell_type": "markdown",
   "metadata": {},
   "source": [
    "### ギリシャ文字\n",
    "\n",
    "***\n",
    "\n",
    "\\begin{align*}\n",
    "&\\alpha & &\\beta & &\\gamma & &\\delta & &\\epsilon & &\\varepsilon\\\\\n",
    "&\\zeta & &\\eta & &\\theta & &\\vartheta & &\\iota & &\\kappa\\\\\n",
    "&\\lambda & &\\mu & &\\nu & &\\xi & &o & &\\pi \\\\\n",
    "&\\varpi & &\\rho & &\\varrho & &\\sigma & &\\varsigma & &\\tau \\\\\n",
    "&\\upsilon & &\\phi & &\\varphi & &\\chi & &\\psi & &\\omega \\\\\n",
    "&\\sum & &\\prod \n",
    "\\end{align*}"
   ]
  },
  {
   "cell_type": "markdown",
   "metadata": {},
   "source": [
    "### 数式\n",
    "\n",
    "***\n",
    "\n",
    "数式 $y = x + 1$ を表示する\n",
    "\n",
    "数式 $$ y = x + 1 $$ を表示する\n",
    "\n",
    "\\begin{align*}\n",
    "y &= (x+1)(x-1)\\\\\n",
    "&= x^{2} - 1\n",
    "\\end{align*}"
   ]
  },
  {
   "cell_type": "markdown",
   "metadata": {},
   "source": [
    "### べき乗・添え字\n",
    "\n",
    "***\n",
    "\n",
    "\\begin{align*}\n",
    "y &= x^{2}\\\\\n",
    "a_{k} &= a_{0} \\cdot r^{k-1}\n",
    "\\end{align*}"
   ]
  },
  {
   "cell_type": "markdown",
   "metadata": {},
   "source": [
    "### 総和\n",
    "\n",
    "***\n",
    "\n",
    "\\begin{align*}\n",
    "y &= \\sum_{k=0}^{\\infty} a_{k}\n",
    "\\end{align*}"
   ]
  },
  {
   "cell_type": "markdown",
   "metadata": {},
   "source": [
    "### 分数\n",
    "\n",
    "***\n",
    "\n",
    "$$y = \\frac{1}{2}x$$"
   ]
  },
  {
   "cell_type": "markdown",
   "metadata": {},
   "source": [
    "### 平方根\n",
    "\n",
    "***\n",
    "\n",
    "\\begin{align*}\n",
    "y &= \\sqrt{12}\\\\\n",
    "y &= \\sqrt[3]{7}\n",
    "\\end{align*}"
   ]
  },
  {
   "cell_type": "markdown",
   "metadata": {},
   "source": [
    "### 三角関数・逆三角関数・三角関数の逆数\n",
    "\n",
    "***\n",
    "\n",
    "\\begin{align*}\n",
    "y &= \\sin - \\pi & y &= \\cos 2 \\pi & y &= \\tan \\theta\\\\\n",
    "y &= \\arcsin \\frac{1}{2} & y &= \\arccos \\frac{\\sqrt{2}}{2} & y &= \\arctan \\sqrt{3}\\\\\n",
    "y &= \\sec \\frac{\\sqrt{3}}{2} \\pi & y &= \\csc - \\frac{\\sqrt{2}}{2} \\alpha & y &= \\cot \\frac{1}{2} \\pi\\\\\n",
    "\\end{align*}"
   ]
  },
  {
   "cell_type": "markdown",
   "metadata": {},
   "source": [
    "### 対数\n",
    "\n",
    "***\n",
    "\n",
    "\\begin{align*}\n",
    "y &= \\log x & y &= \\log_{2} x & y &= \\ln 3x\n",
    "\\end{align*}"
   ]
  },
  {
   "cell_type": "markdown",
   "metadata": {},
   "source": [
    "### 極限\n",
    "\n",
    "***\n",
    "\\begin{align*}\n",
    "e = \\lim_{n \\to \\infty} \\left(1 + \\frac{1}{n} \\right)^{n}\n",
    "\\end{align*}"
   ]
  },
  {
   "cell_type": "markdown",
   "metadata": {},
   "source": [
    "### 微分\n",
    "\n",
    "***\n",
    "\n",
    "\\begin{align*}\n",
    "f(x) &= F'(x)\\\\\n",
    "\\frac{d}{dx}F(x) &= f(x)\n",
    "\\end{align*}\n"
   ]
  },
  {
   "cell_type": "markdown",
   "metadata": {},
   "source": [
    "### 積分\n",
    "\n",
    "***\n",
    "\n",
    "\\begin{align*}\n",
    "S &= \\int_{a}^{b} f(x) dx\\\\\n",
    "V &= \\iint_{D} f(x) dx\n",
    "\\end{align*}\n"
   ]
  },
  {
   "cell_type": "markdown",
   "metadata": {},
   "source": [
    "### 行列\n",
    "\n",
    "***\n",
    "\\begin{align*}\n",
    "x &= \n",
    "\\begin{vmatrix}\n",
    "1 & 2\\\\\n",
    "3 & 4\n",
    "\\end{vmatrix}\\\\\n",
    "\\begin{pmatrix}\n",
    "1 & 2 & 3\\\\\n",
    "4 & 5 & 6\\\\\n",
    "7 & 8 & 9\n",
    "\\end{pmatrix} &=\n",
    "\\begin{bmatrix}\n",
    "1 & 2 & 3\\\\\n",
    "4 & 5 & 6\\\\\n",
    "7 & 8 & 9\n",
    "\\end{bmatrix}\n",
    "\\end{align*}"
   ]
  }
 ],
 "metadata": {
  "kernelspec": {
   "display_name": "Python 3",
   "language": "python",
   "name": "python3"
  },
  "language_info": {
   "codemirror_mode": {
    "name": "ipython",
    "version": 3
   },
   "file_extension": ".py",
   "mimetype": "text/x-python",
   "name": "python",
   "nbconvert_exporter": "python",
   "pygments_lexer": "ipython3",
   "version": "3.6.10"
  }
 },
 "nbformat": 4,
 "nbformat_minor": 4
}
