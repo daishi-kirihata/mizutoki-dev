{
 "cells": [
  {
   "cell_type": "code",
   "execution_count": 1,
   "metadata": {},
   "outputs": [
    {
     "name": "stdout",
     "output_type": "stream",
     "text": [
      "['表層形', '品詞', '品詞細分類1', '品詞細分類2', '品詞細分類3', '活用型', '活用形', '原形', '読み', '発音']\n",
      "['すもも', '名詞', '一般', '*', '*', '*', '*', 'すもも', 'スモモ', 'スモモ']\n",
      "['も', '助詞', '係助詞', '*', '*', '*', '*', 'も', 'モ', 'モ']\n",
      "['もも', '名詞', '一般', '*', '*', '*', '*', 'もも', 'モモ', 'モモ']\n",
      "['も', '助詞', '係助詞', '*', '*', '*', '*', 'も', 'モ', 'モ']\n",
      "['もも', '名詞', '一般', '*', '*', '*', '*', 'もも', 'モモ', 'モモ']\n",
      "['の', '助詞', '連体化', '*', '*', '*', '*', 'の', 'ノ', 'ノ']\n",
      "['うち', '名詞', '非自立', '副詞可能', '*', '*', '*', 'うち', 'ウチ', 'ウチ']\n",
      "\n",
      "['表層形', '品詞', '品詞細分類1', '品詞細分類2', '品詞細分類3', '活用型', '活用形', '原形', '読み', '発音']\n",
      "['すもももももももものうち', '名詞', '一般', '*', '*', '*', '*', 'すもももももももものうち', 'スモモモモモモモモノウチ', 'スモモモモモモモモノウチ']\n",
      "\n",
      "['表層形', '品詞', '品詞細分類1', '品詞細分類2', '品詞細分類3', '活用型', '活用形', '原形', '読み', '発音']\n",
      "['すもも', '名詞', '一般', '*', '*', '*', '*', 'すもも', 'スモモ', 'スモモ']\n",
      "['も', '助詞', '係助詞', '*', '*', '*', '*', 'も', 'モ', 'モ']\n",
      "['もも', '名詞', '一般', '*', '*', '*', '*', 'もも', 'モモ', 'モモ']\n",
      "['も', '助詞', '係助詞', '*', '*', '*', '*', 'も', 'モ', 'モ']\n",
      "['もも', '名詞', '一般', '*', '*', '*', '*', 'もも', 'モモ', 'モモ']\n",
      "['の', '助詞', '連体化', '*', '*', '*', '*', 'の', 'ノ', 'ノ']\n",
      "['うち', '名詞', '非自立', '副詞可能', '*', '*', '*', 'うち', 'ウチ', 'ウチ']\n",
      "\n"
     ]
    }
   ],
   "source": [
    "from module.MeCabBase import MeCabBase\n",
    "\n",
    "mecab = MeCabBase()\n",
    "for parse in mecab.GetParses('すもももももももものうち'):\n",
    "    print(parse)\n",
    "print()\n",
    "\n",
    "mecab.SetTagger('user_mecab')\n",
    "for parse in mecab.GetParses('すもももももももものうち'):\n",
    "    print(parse)\n",
    "print()\n",
    "\n",
    "mecab.SetTagger()\n",
    "for parse in mecab.GetParses('すもももももももものうち'):\n",
    "    print(parse)\n",
    "print()\n",
    "\n",
    "mecab.CreateUserDictionary('userDic')    \n",
    "mecab.UpdateUserDictionary()\n",
    "mecab = None"
   ]
  },
  {
   "cell_type": "code",
   "execution_count": 1,
   "metadata": {},
   "outputs": [
    {
     "ename": "SyntaxError",
     "evalue": "invalid syntax (<ipython-input-1-b78d4ad1abf5>, line 1)",
     "output_type": "error",
     "traceback": [
      "\u001b[1;36m  File \u001b[1;32m\"<ipython-input-1-b78d4ad1abf5>\"\u001b[1;36m, line \u001b[1;32m1\u001b[0m\n\u001b[1;33m    x = 1:3\u001b[0m\n\u001b[1;37m         ^\u001b[0m\n\u001b[1;31mSyntaxError\u001b[0m\u001b[1;31m:\u001b[0m invalid syntax\n"
     ]
    }
   ],
   "source": []
  }
 ],
 "metadata": {
  "kernelspec": {
   "display_name": "Python 3",
   "language": "python",
   "name": "python3"
  },
  "language_info": {
   "codemirror_mode": {
    "name": "ipython",
    "version": 3
   },
   "file_extension": ".py",
   "mimetype": "text/x-python",
   "name": "python",
   "nbconvert_exporter": "python",
   "pygments_lexer": "ipython3",
   "version": "3.6.10"
  }
 },
 "nbformat": 4,
 "nbformat_minor": 4
}
