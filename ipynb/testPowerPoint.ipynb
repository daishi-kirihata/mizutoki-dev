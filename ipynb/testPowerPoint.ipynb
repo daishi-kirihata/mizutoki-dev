{
 "cells": [
  {
   "cell_type": "markdown",
   "metadata": {},
   "source": [
    "# PowerPointファイル操作"
   ]
  },
  {
   "cell_type": "markdown",
   "metadata": {},
   "source": [
    "## PowerPointファイルの作成\n",
    "\n",
    "***"
   ]
  },
  {
   "cell_type": "code",
   "execution_count": 46,
   "metadata": {},
   "outputs": [],
   "source": [
    "from pptx import Presentation\n",
    "\n",
    "presentationName = 'test'\n",
    "presentation = Presentation()\n",
    "\n",
    "titleSlideLayout = presentation.slide_layouts[0]\n",
    "slide = presentation.slides.add_slide(titleSlideLayout)\n",
    "\n",
    "presentation.save('pptx\\{0}.pptx'.format(presentationName))"
   ]
  },
  {
   "cell_type": "markdown",
   "metadata": {},
   "source": [
    "## PowerPointファイルの編集\n",
    "\n",
    "***"
   ]
  },
  {
   "cell_type": "code",
   "execution_count": 110,
   "metadata": {},
   "outputs": [],
   "source": [
    "from pptx import Presentation\n",
    "\n",
    "presentationName = 'test'\n",
    "presentation = Presentation('pptx\\{0}.pptx'.format(presentationName))\n",
    "\n",
    "slide = presentation.slides[0]\n",
    "\n",
    "slide.placeholders[1].text = 'this pptx file was written by python'\n",
    "\n",
    "slide.shapes.title.text = 'Hello'\n",
    "\n",
    "presentation.save('pptx\\{0}.pptx'.format(presentationName))"
   ]
  },
  {
   "cell_type": "markdown",
   "metadata": {},
   "source": [
    "## スライドの追加\n",
    "\n",
    "***"
   ]
  },
  {
   "cell_type": "code",
   "execution_count": 50,
   "metadata": {},
   "outputs": [],
   "source": [
    "from pptx import Presentation\n",
    "\n",
    "presentationName = 'test'\n",
    "presentation = Presentation()\n",
    "\n",
    "for (index, layout) in enumerate(presentation.slide_layouts, start=1):\n",
    "    slide = presentation.slides.add_slide(layout)\n",
    "    # print(index)\n",
    "    \n",
    "presentation.save('pptx\\{0}.pptx'.format(presentationName))"
   ]
  },
  {
   "cell_type": "markdown",
   "metadata": {},
   "source": [
    "## txtファイルからスライド資料作成\n",
    "\n",
    "***"
   ]
  },
  {
   "cell_type": "code",
   "execution_count": 7,
   "metadata": {},
   "outputs": [
    {
     "name": "stdout",
     "output_type": "stream",
     "text": [
      "作成完了しました。\n"
     ]
    }
   ],
   "source": [
    "from pptx import Presentation\n",
    "from pptx.util import Inches, Pt\n",
    "from pathlib import Path\n",
    "import re\n",
    "\n",
    "patternTitle = re.compile(r'^txt\\\\(.*)\\.txt$')\n",
    "pathList = Path('txt/')\n",
    "for file in list(pathList.glob('*.txt')):\n",
    "    \n",
    "    presentationName = patternTitle.sub(r'\\1', str(file))\n",
    "    presentation = Presentation()\n",
    "    \n",
    "    slideLayouts = list()\n",
    "    slideLayouts.append(presentation.slide_layouts[0])\n",
    "    slideLayouts.append(presentation.slide_layouts[6])\n",
    "    \n",
    "    slide = presentation.slides.add_slide(slideLayouts[0])\n",
    "    slide.shapes.title.text = presentationName\n",
    "    slide.placeholders[1].text = 'python'\n",
    "    \n",
    "    fileTexts = re.split(r'\\n', file.read_text(encoding='utf-8'))\n",
    "    for fileText in fileTexts[:20]:\n",
    "        slide = presentation.slides.add_slide(slideLayouts[1])\n",
    "        shapes = list()\n",
    "        paragraphs = list()\n",
    "        shapes.append(slide.shapes.add_textbox(Inches(1), Inches(1), Inches(1), Inches(1)))\n",
    "        paragraphs.append(shapes[-1].text_frame.add_paragraph())\n",
    "        paragraphs[-1].text = '{0}...'.format(fileTexts[:30])\n",
    "        paragraphs[-1].font.size = Pt(23)\n",
    "        paragraphs[-1].font.bold = True\n",
    "        #shapes[-1].text = fileText\n",
    "        #slide.shapes.title.text = presentationName\n",
    "        #slide.placeholders[1].text = 'this page is {0}'.format(page + 2)\n",
    "    \n",
    "    presentation.save('pptx\\{0}.pptx'.format(presentationName))\n",
    "print('作成完了しました。')"
   ]
  },
  {
   "cell_type": "markdown",
   "metadata": {},
   "source": [
    "## jpegファイルを含むスライド資料作成\n",
    "\n",
    "***"
   ]
  },
  {
   "cell_type": "code",
   "execution_count": 1,
   "metadata": {},
   "outputs": [
    {
     "name": "stdout",
     "output_type": "stream",
     "text": [
      "作成完了しました。\n"
     ]
    }
   ],
   "source": [
    "from pptx import Presentation\n",
    "from pptx.util import Inches, Pt\n",
    "from pathlib import Path\n",
    "import re\n",
    "\n",
    "patternTitle = re.compile(r'^txt\\\\(.*)\\.txt$')\n",
    "pathList = Path('txt/')\n",
    "for file in list(pathList.glob('*.txt')):\n",
    "    \n",
    "    presentationName = patternTitle.sub(r'\\1', str(file))\n",
    "    presentation = Presentation()\n",
    "    \n",
    "    slideLayouts = list()\n",
    "    slideLayouts.append(presentation.slide_layouts[0])\n",
    "    slideLayouts.append(presentation.slide_layouts[6])\n",
    "    \n",
    "    slide = presentation.slides.add_slide(slideLayouts[0])\n",
    "    slide.shapes.title.text = presentationName\n",
    "    slide.placeholders[1].text = 'python'\n",
    "    \n",
    "    fileTexts = re.split(r'\\n', file.read_text(encoding='utf-8'))\n",
    "    for fileText in fileTexts[:20]:\n",
    "        slide = presentation.slides.add_slide(slideLayouts[1])\n",
    "        shapes = list()\n",
    "        paragraphs = list()\n",
    "        shapes.append(slide.shapes.add_textbox(Inches(1), Inches(1), Inches(1), Inches(1)))\n",
    "        paragraphs.append(shapes[-1].text_frame.add_paragraph())\n",
    "        paragraphs[-1].text = fileText\n",
    "        paragraphs[-1].font.size = Pt(10)\n",
    "        paragraphs[-1].font.bold = False\n",
    "        shapes.append(slide.shapes.add_picture('jpg/{0}.jpg'.format('sample01'), Inches(2), Inches(2)))\n",
    "        \n",
    "    presentation.save('pptx\\{0}.pptx'.format(presentationName))\n",
    "print('作成完了しました。')"
   ]
  }
 ],
 "metadata": {
  "kernelspec": {
   "display_name": "Python 3",
   "language": "python",
   "name": "python3"
  },
  "language_info": {
   "codemirror_mode": {
    "name": "ipython",
    "version": 3
   },
   "file_extension": ".py",
   "mimetype": "text/x-python",
   "name": "python",
   "nbconvert_exporter": "python",
   "pygments_lexer": "ipython3",
   "version": "3.6.10"
  }
 },
 "nbformat": 4,
 "nbformat_minor": 4
}
